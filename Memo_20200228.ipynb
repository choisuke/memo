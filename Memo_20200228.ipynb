{
  "nbformat": 4,
  "nbformat_minor": 0,
  "metadata": {
    "colab": {
      "name": "Memo_20200228.ipynb",
      "provenance": [],
      "private_outputs": true,
      "toc_visible": true,
      "authorship_tag": "ABX9TyMF+zY5xl1tNkL1GgymNBOA"
    },
    "kernelspec": {
      "name": "python3",
      "display_name": "Python 3"
    }
  },
  "cells": [
    {
      "cell_type": "code",
      "metadata": {
        "id": "SKNuO9n1IqVl",
        "colab_type": "code",
        "colab": {}
      },
      "source": [
        "import numpy as np\n",
        "import pandas as pd"
      ],
      "execution_count": 0,
      "outputs": []
    },
    {
      "cell_type": "code",
      "metadata": {
        "id": "Uu-IHgY-KvWS",
        "colab_type": "code",
        "colab": {}
      },
      "source": [
        "tmp = []\n",
        "for i in range(50):\n",
        "    tmp__ = []\n",
        "    for j in range(15):\n",
        "        data = np.random.randint(0, 3) * np.random.randint(0, 2)\n",
        "        tmp__.append(data)\n",
        "    tmp.append(tmp__)"
      ],
      "execution_count": 0,
      "outputs": []
    },
    {
      "cell_type": "code",
      "metadata": {
        "id": "X0Su-PTeLVwd",
        "colab_type": "code",
        "colab": {}
      },
      "source": [
        "columns = ['A_1', 'A_2', 'A_3', 'A_4', 'A_5', \n",
        "           'B_1', 'B_2', 'B_3', 'B_4', 'B_5', \n",
        "           'C_1', 'C_2', 'C_3', 'C_4', 'C_5']"
      ],
      "execution_count": 0,
      "outputs": []
    },
    {
      "cell_type": "code",
      "metadata": {
        "id": "HnJoZO5ILU96",
        "colab_type": "code",
        "colab": {}
      },
      "source": [
        "tmp = pd.DataFrame(tmp, columns=columns)"
      ],
      "execution_count": 0,
      "outputs": []
    },
    {
      "cell_type": "code",
      "metadata": {
        "id": "oJh6qaCvMW6W",
        "colab_type": "code",
        "colab": {}
      },
      "source": [
        "tmp"
      ],
      "execution_count": 0,
      "outputs": []
    },
    {
      "cell_type": "code",
      "metadata": {
        "id": "odTAvxn7M3_v",
        "colab_type": "code",
        "colab": {}
      },
      "source": [
        ""
      ],
      "execution_count": 0,
      "outputs": []
    }
  ]
}