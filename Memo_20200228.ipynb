{
  "nbformat": 4,
  "nbformat_minor": 0,
  "metadata": {
    "colab": {
      "name": "Memo_20200228.ipynb",
      "provenance": [],
      "private_outputs": true,
      "authorship_tag": "ABX9TyNQGmJNRK2kbwqPp5iV2ObG"
    },
    "kernelspec": {
      "name": "python3",
      "display_name": "Python 3"
    }
  },
  "cells": [
    {
      "cell_type": "code",
      "metadata": {
        "id": "SKNuO9n1IqVl",
        "colab_type": "code",
        "colab": {}
      },
      "source": [
        ""
      ],
      "execution_count": 0,
      "outputs": []
    }
  ]
}